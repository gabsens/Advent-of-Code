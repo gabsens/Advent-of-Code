{
 "cells": [
  {
   "cell_type": "code",
   "execution_count": 9,
   "id": "8ca10945-8422-45f9-b578-d5d0569c859a",
   "metadata": {},
   "outputs": [],
   "source": [
    "s_example = \"\"\"....#.....\n",
    ".........#\n",
    "..........\n",
    "..#.......\n",
    ".......#..\n",
    "..........\n",
    ".#..^.....\n",
    "........#.\n",
    "#.........\n",
    "......#...\"\"\"\n",
    "\n",
    "with open('input.txt', 'r') as f:\n",
    "    s_input = f.read()[:-1]"
   ]
  },
  {
   "cell_type": "markdown",
   "id": "02de99d8-1bda-4282-bb2c-101575c50d53",
   "metadata": {},
   "source": [
    "# Part 1"
   ]
  },
  {
   "cell_type": "code",
   "execution_count": 3,
   "id": "87522e3b-2538-4cbf-bec1-c3356275abd3",
   "metadata": {},
   "outputs": [],
   "source": [
    "def starting(arr):\n",
    "    Lr, Lc = len(arr), len(arr[0])\n",
    "    found = False\n",
    "    for i in range(Lr):\n",
    "        for j in range(Lc):\n",
    "            if arr[i][j] in '^v><':\n",
    "                found = True\n",
    "                break\n",
    "        if found:\n",
    "            break\n",
    "    return (i, j)\n",
    "\n",
    "def is_obstacle(arr, i, j, direction):\n",
    "    Lr, Lc = len(arr), len(arr[0])\n",
    "    if direction == '^' and i > 0:\n",
    "        return arr[i-1][j] == '#'\n",
    "    if direction == 'v' and i < Lr-1:\n",
    "        return arr[i+1][j] == '#'\n",
    "    if direction == '<' and j > 0:\n",
    "        return arr[i][j-1] == '#'\n",
    "    if direction == '>' and j < Lc-1:\n",
    "        return arr[i][j+1] == '#'\n",
    "    else:\n",
    "        return False\n",
    "\n",
    "def next(arr, i , j, direction):\n",
    "    dir_change = {'^':'>', '>':'v', 'v':'<', '<':'^'}\n",
    "    blocked = is_obstacle(arr, i, j, direction)\n",
    "    while blocked:\n",
    "        direction = dir_change[direction]\n",
    "        blocked = is_obstacle(arr, i, j, direction)\n",
    "    if direction == '^':\n",
    "        return (i-1, j, direction)\n",
    "    if direction == 'v':\n",
    "        return (i+1, j, direction)\n",
    "    if direction == '<':\n",
    "        return (i, j-1, direction)\n",
    "    if direction == '>':\n",
    "        return (i, j+1, direction)\n",
    "        \n",
    "def trajectory(s):\n",
    "    arr = [list(line) for line in s.split('\\n')]\n",
    "    Lr, Lc = len(arr), len(arr[0])\n",
    "    visited = set()\n",
    "    \n",
    "    i, j = starting(arr)#locate starting point\n",
    "    direction = arr[i][j]\n",
    "    visited.add((i,j))\n",
    "    \n",
    "    while 0 <= i < Lr and 0 <= j < Lc: #while guard not OOB, compute next move, update position\n",
    "        i, j, direction = next(arr, i, j, direction)\n",
    "        visited.add((i,j))\n",
    "    return len(visited) - 1"
   ]
  },
  {
   "cell_type": "code",
   "execution_count": 4,
   "id": "bfab5a56-033b-4561-a122-e7ee31971b01",
   "metadata": {},
   "outputs": [
    {
     "data": {
      "text/plain": [
       "41"
      ]
     },
     "execution_count": 4,
     "metadata": {},
     "output_type": "execute_result"
    }
   ],
   "source": [
    "trajectory(s_example)"
   ]
  },
  {
   "cell_type": "code",
   "execution_count": 5,
   "id": "8e308019-a556-4915-bd91-0c20464cff58",
   "metadata": {},
   "outputs": [
    {
     "data": {
      "text/plain": [
       "5208"
      ]
     },
     "execution_count": 5,
     "metadata": {},
     "output_type": "execute_result"
    }
   ],
   "source": [
    "trajectory(s_input)"
   ]
  },
  {
   "cell_type": "markdown",
   "id": "22d183b2-29fa-4a88-b97c-d19ee1f802cb",
   "metadata": {},
   "source": [
    "# Part 2"
   ]
  },
  {
   "cell_type": "code",
   "execution_count": 6,
   "id": "de47fc60-f7d5-4a98-b445-157a314ef55a",
   "metadata": {},
   "outputs": [],
   "source": [
    "def is_obstruction_valid(arr, obs_i, obs_j, guard_i, guard_j):\n",
    "    Lr, Lc = len(arr), len(arr[0])\n",
    "    arr[obs_i][obs_j] = '#'\n",
    "    visited = set()\n",
    "    \n",
    "    i, j = guard_i, guard_j#guard's starting point\n",
    "    direction = arr[i][j]\n",
    "    visited.add((i, j, direction))\n",
    "\n",
    "    while 0 <= i < Lr and 0 <= j < Lc: #while guard not OOB, compute next move, update position\n",
    "        i, j, direction = next(arr, i, j, direction)\n",
    "        if (i, j, direction) in visited:\n",
    "            arr[obs_i][obs_j] = '.'\n",
    "            return True\n",
    "        visited.add((i, j, direction))\n",
    "    arr[obs_i][obs_j] = '.'\n",
    "    return False\n",
    "\n",
    "def find_obstructions(s):\n",
    "    res = 0\n",
    "    arr = [list(line) for line in s.split('\\n')]\n",
    "    Lr, Lc = len(arr), len(arr[0])\n",
    "    guard_i, guard_j = starting(arr)\n",
    "    for i in range(Lr):\n",
    "        for j in range(Lc):\n",
    "            if ((i, j) != (guard_i, guard_j) \n",
    "                and arr[i][j] != '#' \n",
    "                and is_obstruction_valid(arr, i, j, guard_i, guard_j)\n",
    "               ):\n",
    "                res += 1\n",
    "    return res\n",
    "                "
   ]
  },
  {
   "cell_type": "code",
   "execution_count": 7,
   "id": "c84b03e6-a20c-4e6a-9f6b-b41d66f0857d",
   "metadata": {},
   "outputs": [
    {
     "data": {
      "text/plain": [
       "6"
      ]
     },
     "execution_count": 7,
     "metadata": {},
     "output_type": "execute_result"
    }
   ],
   "source": [
    "find_obstructions(s_example)"
   ]
  },
  {
   "cell_type": "code",
   "execution_count": 8,
   "id": "68b0518a-a545-4cf6-83b3-bff8028b46f3",
   "metadata": {},
   "outputs": [
    {
     "data": {
      "text/plain": [
       "1972"
      ]
     },
     "execution_count": 8,
     "metadata": {},
     "output_type": "execute_result"
    }
   ],
   "source": [
    "find_obstructions(s_input)"
   ]
  },
  {
   "cell_type": "code",
   "execution_count": null,
   "id": "cf255747-f8a8-496c-b821-7db499ad8363",
   "metadata": {},
   "outputs": [],
   "source": []
  }
 ],
 "metadata": {
  "kernelspec": {
   "display_name": "Python 3 (ipykernel)",
   "language": "python",
   "name": "python3"
  },
  "language_info": {
   "codemirror_mode": {
    "name": "ipython",
    "version": 3
   },
   "file_extension": ".py",
   "mimetype": "text/x-python",
   "name": "python",
   "nbconvert_exporter": "python",
   "pygments_lexer": "ipython3",
   "version": "3.12.2"
  }
 },
 "nbformat": 4,
 "nbformat_minor": 5
}
