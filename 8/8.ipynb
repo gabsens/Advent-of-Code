{
 "cells": [
  {
   "cell_type": "code",
   "execution_count": 1,
   "id": "07a9d489-9b34-428a-9e87-616600c02631",
   "metadata": {},
   "outputs": [],
   "source": [
    "s_example = \"\"\"............\n",
    "........0...\n",
    ".....0......\n",
    ".......0....\n",
    "....0.......\n",
    "......A.....\n",
    "............\n",
    "............\n",
    "........A...\n",
    ".........A..\n",
    "............\n",
    "............\"\"\"\n",
    "\n",
    "with open('input.txt', 'r') as f:\n",
    "    s_input = f.read()[:-1]\n",
    "\n",
    "def process(s):\n",
    "    return [list(line) for line in s.split('\\n')]"
   ]
  },
  {
   "cell_type": "markdown",
   "id": "5bee7cf9-782c-42db-9753-7af94e593cf1",
   "metadata": {},
   "source": [
    "# Part 1"
   ]
  },
  {
   "cell_type": "code",
   "execution_count": 2,
   "id": "4602a4a8-c2b3-41b7-805e-bdba53aa4ab3",
   "metadata": {},
   "outputs": [],
   "source": [
    "def process_arr(arr):\n",
    "    res = {}\n",
    "    Lr, Lc = len(arr), len(arr[0])\n",
    "    for i in range(Lr):\n",
    "        for j in range(Lc):\n",
    "            key = arr[i][j]\n",
    "            if key != '.':\n",
    "                res.setdefault(key, []).append((i,j))\n",
    "    return res\n",
    "\n",
    "def is_within(arr, i, j):\n",
    "    Lr, Lc = len(arr), len(arr[0])\n",
    "    return 0 <= i < Lr and 0 <= j < Lc\n",
    "\n",
    "def find_antennas(arr, i1, j1, i2, j2):\n",
    "    diff_i = i2 - i1\n",
    "    diff_j = j2 - j1\n",
    "    if j2 >= j1:\n",
    "        within1 = is_within(arr, i1 - diff_i, j1 - diff_j)\n",
    "        within2 = is_within(arr, i2 + diff_i, j2 + diff_j)\n",
    "        if within1 and within2:\n",
    "            return [(i1 - diff_i, j1 - diff_j), (i2 + diff_i, j2 + diff_j)]\n",
    "        if within1:\n",
    "            return [(i1 - diff_i, j1 - diff_j)]\n",
    "        if within2:\n",
    "            return [(i2 + diff_i, j2 + diff_j)]\n",
    "        return []\n",
    "    else:\n",
    "        within1 = is_within(arr, i1 - diff_i, j1 - diff_j)\n",
    "        within2 = is_within(arr, i2 + diff_i, j2 + diff_j)\n",
    "        if within1 and within2:\n",
    "            return [(i1 - diff_i, j1 - diff_j), (i2 + diff_i, j2 + diff_j)]\n",
    "        if within1:\n",
    "            return [(i1 - diff_i, j1 - diff_j)]\n",
    "        if within2:\n",
    "            return [(i2 + diff_i, j2 + diff_j)]\n",
    "        return []\n",
    "        \n",
    "def count(s):\n",
    "    res = set()\n",
    "    arr = process(s)\n",
    "    dic = process_arr(arr)\n",
    "    for key in dic:\n",
    "        pos = dic[key]\n",
    "        L = len(pos)\n",
    "        for k in range(L-1):\n",
    "            for l in range(k+1, L):\n",
    "                i1, j1 = pos[k]\n",
    "                i2, j2 = pos[l]\n",
    "                res.update(find_antennas(arr, i1, j1, i2, j2))\n",
    "    return len(res)"
   ]
  },
  {
   "cell_type": "code",
   "execution_count": 3,
   "id": "d8b9e4ce-be70-4e7e-9ee5-f9e3d77971f3",
   "metadata": {},
   "outputs": [
    {
     "data": {
      "text/plain": [
       "14"
      ]
     },
     "execution_count": 3,
     "metadata": {},
     "output_type": "execute_result"
    }
   ],
   "source": [
    "count(s_example)"
   ]
  },
  {
   "cell_type": "code",
   "execution_count": 4,
   "id": "f5d0363e-856f-4c95-825d-b3ac513dbfd2",
   "metadata": {},
   "outputs": [
    {
     "data": {
      "text/plain": [
       "351"
      ]
     },
     "execution_count": 4,
     "metadata": {},
     "output_type": "execute_result"
    }
   ],
   "source": [
    "count(s_input)"
   ]
  },
  {
   "cell_type": "markdown",
   "id": "e3a69ba1-afb9-4471-8c01-a993b7cc0506",
   "metadata": {},
   "source": [
    "# Part 2"
   ]
  },
  {
   "cell_type": "code",
   "execution_count": 5,
   "id": "da492862-19ec-4807-9123-fd4ddd1724ee",
   "metadata": {},
   "outputs": [],
   "source": [
    "def update_set(arr, visited, i, j, diff_i, diff_j):\n",
    "    n = 0\n",
    "    while is_within(arr, i+n*diff_i, j+n*diff_j):\n",
    "        visited.add((i+n*diff_i, j+n*diff_j))\n",
    "        n += 1\n",
    "    n = -1\n",
    "    while is_within(arr, i+n*diff_i, j+n*diff_j):\n",
    "        visited.add((i+n*diff_i, j+n*diff_j))\n",
    "        n -= 1\n",
    "\n",
    "def count2(s):\n",
    "    visited = set()\n",
    "    arr = process(s)\n",
    "    dic = process_arr(arr)\n",
    "    for key in dic:\n",
    "        pos = dic[key]\n",
    "        L = len(pos)\n",
    "        for k in range(L-1):\n",
    "            for l in range(k+1, L):\n",
    "                i1, j1 = pos[k]\n",
    "                i2, j2 = pos[l]\n",
    "                diff_i, diff_j = i2-i1, j2-j1\n",
    "                update_set(arr, visited, i1, j1, diff_i, diff_j)\n",
    "    return len(visited)"
   ]
  },
  {
   "cell_type": "code",
   "execution_count": 6,
   "id": "eb6a933a-1c6b-4add-832f-a13d07c1cace",
   "metadata": {},
   "outputs": [
    {
     "data": {
      "text/plain": [
       "34"
      ]
     },
     "execution_count": 6,
     "metadata": {},
     "output_type": "execute_result"
    }
   ],
   "source": [
    "count2(s_example)"
   ]
  },
  {
   "cell_type": "code",
   "execution_count": 7,
   "id": "813d5879-627d-4f39-862b-b7a2611dcd95",
   "metadata": {},
   "outputs": [
    {
     "data": {
      "text/plain": [
       "1259"
      ]
     },
     "execution_count": 7,
     "metadata": {},
     "output_type": "execute_result"
    }
   ],
   "source": [
    "count2(s_input)"
   ]
  },
  {
   "cell_type": "code",
   "execution_count": null,
   "id": "320d97ae-17fa-4ef3-a187-7d48ef924534",
   "metadata": {},
   "outputs": [],
   "source": []
  }
 ],
 "metadata": {
  "kernelspec": {
   "display_name": "Python 3 (ipykernel)",
   "language": "python",
   "name": "python3"
  },
  "language_info": {
   "codemirror_mode": {
    "name": "ipython",
    "version": 3
   },
   "file_extension": ".py",
   "mimetype": "text/x-python",
   "name": "python",
   "nbconvert_exporter": "python",
   "pygments_lexer": "ipython3",
   "version": "3.12.2"
  }
 },
 "nbformat": 4,
 "nbformat_minor": 5
}
