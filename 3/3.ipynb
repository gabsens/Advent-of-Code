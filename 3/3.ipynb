{
 "cells": [
  {
   "cell_type": "code",
   "execution_count": 26,
   "id": "53ab60ef-6548-4e15-b8cf-2711a96a2e59",
   "metadata": {},
   "outputs": [],
   "source": [
    "import re\n",
    "from typing import List"
   ]
  },
  {
   "cell_type": "code",
   "execution_count": 19,
   "id": "1c122934-2eab-43f6-b134-154b96aad19a",
   "metadata": {},
   "outputs": [],
   "source": [
    "s_example = \"\"\"xmul(2,4)%&mul[3,7]!@^do_not_mul(5,5)+mul(32,64]then(mul(11,8)mul(8,5))\"\"\"\n",
    "\n",
    "with open('input.txt', 'r') as f:\n",
    "    s_input = f.read()[:-1]"
   ]
  },
  {
   "cell_type": "markdown",
   "id": "757dc5fe-8d4a-4c52-a7fa-2c730257cdf1",
   "metadata": {},
   "source": [
    "# Part 1"
   ]
  },
  {
   "cell_type": "markdown",
   "id": "711850f2-ef8a-4f25-8a30-ad08bae7571d",
   "metadata": {},
   "source": [
    "## With regex"
   ]
  },
  {
   "cell_type": "code",
   "execution_count": 20,
   "id": "ab78bbb0-016b-4b56-8505-6ad2ef1e2e24",
   "metadata": {},
   "outputs": [],
   "source": [
    "def mult_from_match(s: str) -> int:\n",
    "    \"\"\"\n",
    "    Input is match from regex query, of the form mul(a,b) where a and b are integers, \n",
    "    each with length 1, 2 or 3\n",
    "    Return a*b\n",
    "    \"\"\"\n",
    "    \n",
    "    s1, s2 = s[4:-1].split(',')\n",
    "    return int(s1) * int(s2)\n",
    "    \n",
    "def compute_sum(s: str) -> int:\n",
    "    regex_matches = re.findall(r\"mul\\(\\d{1,3},\\d{1,3}\\)\", s)\n",
    "    return sum([mult_from_match(s) for s in regex_matches])"
   ]
  },
  {
   "cell_type": "code",
   "execution_count": 21,
   "id": "b67fe2e0-5df6-410b-bd8d-3453b9e5b247",
   "metadata": {},
   "outputs": [
    {
     "data": {
      "text/plain": [
       "161"
      ]
     },
     "execution_count": 21,
     "metadata": {},
     "output_type": "execute_result"
    }
   ],
   "source": [
    "compute_sum(s_example)"
   ]
  },
  {
   "cell_type": "code",
   "execution_count": 22,
   "id": "02d92771-9e94-438c-ac27-043709101736",
   "metadata": {},
   "outputs": [
    {
     "data": {
      "text/plain": [
       "165225049"
      ]
     },
     "execution_count": 22,
     "metadata": {},
     "output_type": "execute_result"
    }
   ],
   "source": [
    "compute_sum(s_input)"
   ]
  },
  {
   "cell_type": "markdown",
   "id": "9ba1b764-12c6-46a9-bae9-5685f166fa3c",
   "metadata": {},
   "source": [
    "## Without regex"
   ]
  },
  {
   "cell_type": "code",
   "execution_count": 30,
   "id": "6fe3422e-e8d1-4876-a967-66fa47cb4b32",
   "metadata": {},
   "outputs": [],
   "source": [
    "def check_digits(s: str) -> bool:\n",
    "    \"\"\"\n",
    "    Check whether all characters in the string are digits, and length is appropriate  \n",
    "    \"\"\"\n",
    "    \n",
    "    return s.isdigit() and (1 <= len(s) <= 3)\n",
    "    \n",
    "def valid_between(s: str) -> bool:\n",
    "    \"\"\"\n",
    "    Check if string has the form a,b where a and b are integers with 1 to 3 digits\n",
    "    \"\"\"\n",
    "    \n",
    "    L = len(s)\n",
    "    i = 1\n",
    "    for i in range(1, L):\n",
    "        if s[i] == ',': #found comma\n",
    "            return check_digits(s[:i]) and check_digits(s[i+1:])\n",
    "    return False\n",
    "\n",
    "def findall(s: str) -> List[str]:\n",
    "    res = []\n",
    "    L = len(s)\n",
    "    i = 0\n",
    "    while i < L-7:\n",
    "        if s[i:i+4] == 'mul(': #found mul(\n",
    "            closing_par_found = False\n",
    "            for j in range(i+7, i+12): #look for closing parenthesis\n",
    "                if s[j] == ')': #found closing parenthesis\n",
    "                    closing_par_found = True\n",
    "                    if valid_between(s[i+4:j]): #valid digits and comma inbetween\n",
    "                        res.append(s[i:j+1])\n",
    "                    i = j+1 #valid or not, can throw away the entire substring mul(...)\n",
    "                    break #end search\n",
    "            if not closing_par_found: #closing parenthesis not found where it should be\n",
    "                i += 4 #can throw away substring mul(\n",
    "        else: #mul( not found yet\n",
    "            i += 1 #look one index further\n",
    "    return res\n",
    "\n",
    "def compute_sum2(s):\n",
    "    matches = findall(s)\n",
    "    return sum([mult_from_match(match) for match in matches])"
   ]
  },
  {
   "cell_type": "code",
   "execution_count": 31,
   "id": "0c44eec7-d725-464c-a6e0-89c242d987d0",
   "metadata": {},
   "outputs": [
    {
     "data": {
      "text/plain": [
       "161"
      ]
     },
     "execution_count": 31,
     "metadata": {},
     "output_type": "execute_result"
    }
   ],
   "source": [
    "compute_sum2(s_example)"
   ]
  },
  {
   "cell_type": "code",
   "execution_count": 32,
   "id": "243b8f2a-ce7e-42cb-ab24-08b1c7f58bfb",
   "metadata": {},
   "outputs": [
    {
     "data": {
      "text/plain": [
       "165225049"
      ]
     },
     "execution_count": 32,
     "metadata": {},
     "output_type": "execute_result"
    }
   ],
   "source": [
    "compute_sum2(s_input)"
   ]
  },
  {
   "cell_type": "markdown",
   "id": "81eb6bcd-70ed-47cc-a738-b5a98a28ab5e",
   "metadata": {},
   "source": [
    "# Part 2"
   ]
  },
  {
   "cell_type": "code",
   "execution_count": 33,
   "id": "8f951dad-2a82-4caf-8bf5-ec1200099581",
   "metadata": {},
   "outputs": [],
   "source": [
    "def findall_corrupted(s):\n",
    "    res = []\n",
    "    L = len(s)\n",
    "    i = 0\n",
    "    while i < L-7:\n",
    "        if s[i:i+4] == 'mul(': #found mul(\n",
    "            j = i+7 #closing parenthesis is beyond i+7 inclusive\n",
    "            while j <= i+11 and s[j] != ')':  #look for closing parenthesis, which is at most at index i+11\n",
    "                j += 1\n",
    "            if j <= i+11 and s[j] == ')': #if found closing parenthesis\n",
    "                if valid_between(s[i+4:j]): #check for validity of digits and comma\n",
    "                    res.append(s[i:j+1])\n",
    "                else: #invalid, but may contain a do() or don't()\n",
    "                    if 'do()' in s[i+4:j+1]: #found do(), which may repeat twice, but OK\n",
    "                        res.append('do')\n",
    "                    elif \"don't()\" in s[i+4:j+1]: #found don't()\n",
    "                        res.append('dont')\n",
    "                i = j+1 #valid or not, can throw away the entire substring mul(...)\n",
    "            if j == i+12: #closing parenthesis not found where it should be\n",
    "                i += 4 #can throw away substring mul(\n",
    "                \n",
    "        elif s[i:i+4] == 'do()': #found do()\n",
    "            res.append('do')\n",
    "            i += 4 #look further\n",
    "            \n",
    "        elif s[i:i+7] == \"don't()\":\n",
    "            res.append('dont')\n",
    "            i += 7 #look further\n",
    "\n",
    "        else:\n",
    "            i += 1\n",
    "    return res\n",
    "\n",
    "def compute_sum_corrupted(s):\n",
    "    res = 0\n",
    "    dont_active = False\n",
    "    matches = findall_corrupted(s)\n",
    "    for match in matches:\n",
    "        if match == \"dont\":\n",
    "            dont_active = True\n",
    "        elif dont_active and match == \"do\":\n",
    "            dont_active = False\n",
    "        elif not(dont_active) and match != \"do\":\n",
    "            res += mult_from_match(match)\n",
    "    return res"
   ]
  },
  {
   "cell_type": "code",
   "execution_count": 34,
   "id": "6adbe706-a81a-4db4-9717-d7f6ae6c2d5d",
   "metadata": {},
   "outputs": [
    {
     "data": {
      "text/plain": [
       "48"
      ]
     },
     "execution_count": 34,
     "metadata": {},
     "output_type": "execute_result"
    }
   ],
   "source": [
    "s_example_corrupted = \"xmul(2,4)&mul[3,7]!^don't()_mul(5,5)+mul(32,64](mul(11,8)undo()?mul(8,5))\"\n",
    "compute_sum_corrupted(s_example_corrupted)"
   ]
  },
  {
   "cell_type": "code",
   "execution_count": 35,
   "id": "c0b92560-488d-453d-ac21-c27b3858f83f",
   "metadata": {},
   "outputs": [
    {
     "data": {
      "text/plain": [
       "108830766"
      ]
     },
     "execution_count": 35,
     "metadata": {},
     "output_type": "execute_result"
    }
   ],
   "source": [
    "compute_sum_corrupted(s_input)"
   ]
  },
  {
   "cell_type": "code",
   "execution_count": null,
   "id": "6cb3a465-c27b-4a40-8503-76436d107177",
   "metadata": {},
   "outputs": [],
   "source": []
  }
 ],
 "metadata": {
  "kernelspec": {
   "display_name": "Python 3 (ipykernel)",
   "language": "python",
   "name": "python3"
  },
  "language_info": {
   "codemirror_mode": {
    "name": "ipython",
    "version": 3
   },
   "file_extension": ".py",
   "mimetype": "text/x-python",
   "name": "python",
   "nbconvert_exporter": "python",
   "pygments_lexer": "ipython3",
   "version": "3.12.2"
  }
 },
 "nbformat": 4,
 "nbformat_minor": 5
}
