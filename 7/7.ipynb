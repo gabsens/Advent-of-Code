{
 "cells": [
  {
   "cell_type": "code",
   "execution_count": 1,
   "id": "9888fb89-4216-40d5-8f2e-1a3dc06e7f75",
   "metadata": {},
   "outputs": [],
   "source": [
    "s_example = \"\"\"190: 10 19\n",
    "3267: 81 40 27\n",
    "83: 17 5\n",
    "156: 15 6\n",
    "7290: 6 8 6 15\n",
    "161011: 16 10 13\n",
    "192: 17 8 14\n",
    "21037: 9 7 18 13\n",
    "292: 11 6 16 20\"\"\"\n",
    "\n",
    "with open('input.txt', 'r') as f:\n",
    "    s_input = f.read()[:-1]\n",
    "\n",
    "def process(s):\n",
    "    res = []\n",
    "    for line in s.split('\\n'):\n",
    "        arr = line.split(' ')\n",
    "        summands = [int(ss) for ss in arr[1:]]\n",
    "        res.append((int(arr[0][:-1]), summands))\n",
    "    return res"
   ]
  },
  {
   "cell_type": "markdown",
   "id": "86e8bd72-5390-46df-94f4-50b34bc79c2f",
   "metadata": {},
   "source": [
    "# Part 1"
   ]
  },
  {
   "cell_type": "code",
   "execution_count": 2,
   "id": "5514c2df-b2f8-4867-9d84-0a6f6020e68c",
   "metadata": {},
   "outputs": [],
   "source": [
    "def is_possible(target, arr, idx_start):\n",
    "    cur = arr[idx_start]\n",
    "    if idx_start == 0:\n",
    "        return target == cur\n",
    "    if target % cur == 0 and is_possible(target//cur, arr, idx_start-1):\n",
    "        return True\n",
    "    if target >= cur:\n",
    "        return is_possible(target-cur, arr, idx_start-1)\n",
    "    else:\n",
    "        return False\n",
    "\n",
    "def count(s):\n",
    "    eqs = process(s)\n",
    "    return sum((target for (target, arr) in eqs if is_possible(target, arr, len(arr)-1)))"
   ]
  },
  {
   "cell_type": "code",
   "execution_count": 3,
   "id": "9c0848ec-7518-4064-8bfd-23c2326829fc",
   "metadata": {},
   "outputs": [
    {
     "data": {
      "text/plain": [
       "3749"
      ]
     },
     "execution_count": 3,
     "metadata": {},
     "output_type": "execute_result"
    }
   ],
   "source": [
    "count(s_example)"
   ]
  },
  {
   "cell_type": "code",
   "execution_count": 4,
   "id": "038aaa70-b6da-47e7-93be-ec942972db6e",
   "metadata": {},
   "outputs": [
    {
     "data": {
      "text/plain": [
       "1545311493300"
      ]
     },
     "execution_count": 4,
     "metadata": {},
     "output_type": "execute_result"
    }
   ],
   "source": [
    "count(s_input)"
   ]
  },
  {
   "cell_type": "markdown",
   "id": "78de5ad5-1f4d-424c-91df-720197b47346",
   "metadata": {},
   "source": [
    "# Part 2"
   ]
  },
  {
   "cell_type": "code",
   "execution_count": 5,
   "id": "f6ec625e-6660-41e2-a8b4-a92e816f1fb3",
   "metadata": {},
   "outputs": [],
   "source": [
    "def is_possible2(target, arr, idx_start):\n",
    "    cur = arr[idx_start]\n",
    "    if idx_start == 0:\n",
    "        return target == cur\n",
    "    if target % cur == 0 and is_possible2(target//cur, arr, idx_start-1):\n",
    "        return True\n",
    "    target_s, cur_s = str(target), str(cur)\n",
    "    L = len(cur_s)\n",
    "    if target_s.endswith(cur_s) and target_s[:-L] and is_possible2(int(target_s[:-L]), arr, idx_start-1):\n",
    "        return True\n",
    "    if target >= cur:\n",
    "        return is_possible2(target-cur, arr, idx_start-1)\n",
    "    else:\n",
    "        return False\n",
    "        \n",
    "def count2(s):\n",
    "    eqs = process(s)\n",
    "    return sum((target for (target, arr) in eqs if is_possible2(target, arr, len(arr)-1)))"
   ]
  },
  {
   "cell_type": "code",
   "execution_count": 6,
   "id": "de72505b-33e4-4484-ae58-e9dedea09869",
   "metadata": {},
   "outputs": [
    {
     "data": {
      "text/plain": [
       "11387"
      ]
     },
     "execution_count": 6,
     "metadata": {},
     "output_type": "execute_result"
    }
   ],
   "source": [
    "count2(s_example)"
   ]
  },
  {
   "cell_type": "code",
   "execution_count": 7,
   "id": "6f17bbdc-7862-4208-85ca-96bc13460562",
   "metadata": {},
   "outputs": [
    {
     "data": {
      "text/plain": [
       "169122112716571"
      ]
     },
     "execution_count": 7,
     "metadata": {},
     "output_type": "execute_result"
    }
   ],
   "source": [
    "count2(s_input)"
   ]
  },
  {
   "cell_type": "code",
   "execution_count": null,
   "id": "203f10a9-7bd8-4b4c-acbf-f1834845be52",
   "metadata": {},
   "outputs": [],
   "source": []
  }
 ],
 "metadata": {
  "kernelspec": {
   "display_name": "Python 3 (ipykernel)",
   "language": "python",
   "name": "python3"
  },
  "language_info": {
   "codemirror_mode": {
    "name": "ipython",
    "version": 3
   },
   "file_extension": ".py",
   "mimetype": "text/x-python",
   "name": "python",
   "nbconvert_exporter": "python",
   "pygments_lexer": "ipython3",
   "version": "3.12.2"
  }
 },
 "nbformat": 4,
 "nbformat_minor": 5
}
