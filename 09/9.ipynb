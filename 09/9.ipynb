{
 "cells": [
  {
   "cell_type": "code",
   "execution_count": 1,
   "id": "9fd70561-eb34-4b6f-911c-f85b2940c9e1",
   "metadata": {},
   "outputs": [],
   "source": [
    "from typing import List\n",
    "from math import floor"
   ]
  },
  {
   "cell_type": "code",
   "execution_count": 2,
   "id": "4bf8aec8-8579-4f42-8ab8-67060d38f079",
   "metadata": {},
   "outputs": [],
   "source": [
    "s_example = \"2333133121414131402\"\n",
    "\n",
    "with open('input.txt', 'r') as f:\n",
    "    s_input = f.read()[:-1]"
   ]
  },
  {
   "cell_type": "markdown",
   "id": "51a3d1ca-1985-4265-b9c4-a63229ceafec",
   "metadata": {},
   "source": [
    "# Part 1"
   ]
  },
  {
   "cell_type": "code",
   "execution_count": 3,
   "id": "cde20911-d42b-46be-b3b4-fc599accbfdd",
   "metadata": {},
   "outputs": [],
   "source": [
    "def construct(s: str) -> List[int]:\n",
    "    arr = [int(c) for c in list(s)]\n",
    "    res = [0 for _ in range(arr[0])]\n",
    "    L = len(arr)\n",
    "    left, right = 1, 2 * floor((L-1)/2)\n",
    "    while left <= right:\n",
    "        while arr[right] > 0 and arr[left] > 0: #while it is possible to transfer from idx right to empty space at idx left\n",
    "            res.append(right//2) #add element to the final array\n",
    "            arr[right] -= 1 #update number of elements to transfer\n",
    "            arr[left] -= 1 #update number of free spaces remaining\n",
    "        if arr[right] == 0:\n",
    "            right -= 2\n",
    "        if arr[left] == 0: #exhausted free spaces at idx left\n",
    "            res += ((left+1)//2 for _ in range(arr[left+1])) #add elements corresponding to idx (left + 1) to final array\n",
    "            left += 2\n",
    "    return res\n",
    "\n",
    "def checksum(s: str) -> int:\n",
    "    arr = construct(s)\n",
    "    return sum((i*el for (i,el) in enumerate(arr)))"
   ]
  },
  {
   "cell_type": "code",
   "execution_count": 4,
   "id": "5b3d072e-e89f-4429-b76b-19c786215df4",
   "metadata": {},
   "outputs": [
    {
     "data": {
      "text/plain": [
       "1928"
      ]
     },
     "execution_count": 4,
     "metadata": {},
     "output_type": "execute_result"
    }
   ],
   "source": [
    "checksum(s_example)"
   ]
  },
  {
   "cell_type": "code",
   "execution_count": 5,
   "id": "19fea8f3-31ef-4498-a4a5-f57e3037ed30",
   "metadata": {},
   "outputs": [
    {
     "data": {
      "text/plain": [
       "6446899523367"
      ]
     },
     "execution_count": 5,
     "metadata": {},
     "output_type": "execute_result"
    }
   ],
   "source": [
    "checksum(s_input)"
   ]
  },
  {
   "cell_type": "markdown",
   "id": "9cff26b0-d01d-4ac8-95a1-86250bbcc909",
   "metadata": {},
   "source": [
    "# Part 2"
   ]
  },
  {
   "cell_type": "code",
   "execution_count": 6,
   "id": "4ebd3d06-3e30-4d1c-b1ef-db19fdf6a39f",
   "metadata": {},
   "outputs": [],
   "source": [
    "def init_idxs_leftmost_blocks(arr):\n",
    "    l_max = max((el for (i, el) in enumerate(arr) if i%2 == 1))\n",
    "    idxs_leftmost_blocks = [-1 for _ in range(l_max+1)]\n",
    "    max_until_now = 0\n",
    "    for (i, el) in enumerate(arr):\n",
    "        if i%2 == 1 and el > max_until_now:\n",
    "            for j in range(max_until_now+1, el+1):\n",
    "                idxs_leftmost_blocks[j] = i\n",
    "            max_until_now = el\n",
    "    return l_max, idxs_leftmost_blocks\n",
    "\n",
    "def update(arr, right):\n",
    "    l_max = max((el for (i, el) in enumerate(arr) if i%2 == 1 and i < right))\n",
    "    idxs_leftmost_blocks = [-1 for _ in range(l_max+1)]\n",
    "    max_until_now = 0\n",
    "    for (i, el) in enumerate(arr):\n",
    "        if i%2 == 1 and i < right and el > max_until_now:\n",
    "            for j in range(max_until_now+1, el+1):\n",
    "                idxs_leftmost_blocks[j] = i\n",
    "            max_until_now = el\n",
    "    return l_max, idxs_leftmost_blocks\n",
    "\n",
    "def construct_dic(s: str) -> List[int]:\n",
    "    arr = [int(c) for c in list(s)]\n",
    "    L = len(arr)\n",
    "    #for each length l of free space that occurs, store the index of the rightmost free space of length >= l, and store the max of all the l's at all time\n",
    "    l_max, idxs_leftmost_blocks = init_idxs_leftmost_blocks(arr)\n",
    "    \n",
    "    right = 2 * floor((L-1)/2)\n",
    "    write_at_index = {0: [(0, arr[0])]} \n",
    "    #for each index of free space that will be overwritten, provide what to write, and how many occurrences\n",
    "    #also remember static blocks for later\n",
    "    \n",
    "    while right > 0:\n",
    "        if arr[right] <= l_max and idxs_leftmost_blocks[arr[right]] != -1:\n",
    "            idx_leftmost_block = idxs_leftmost_blocks[arr[right]]\n",
    "            write_at_index.setdefault(idx_leftmost_block, []).append((right//2, arr[right]))\n",
    "            write_at_index.setdefault(right, []).append((0, arr[right]))\n",
    "            arr[idx_leftmost_block] -= arr[right]\n",
    "            l_max, idxs_leftmost_blocks = update(arr, right-2)\n",
    "        else:\n",
    "            write_at_index.setdefault(right, []).append((right//2, arr[right]))\n",
    "        right -= 2\n",
    "\n",
    "    for (i, el) in enumerate(arr):\n",
    "        if i%2 == 1 and arr[i] > 0:\n",
    "            write_at_index.setdefault(i, []).append((0, arr[i]))\n",
    "    return write_at_index\n",
    "\n",
    "def construct_from_dic(d):\n",
    "    res = []\n",
    "    for k in sorted(d.keys()):\n",
    "        for (num, occ) in d[k]:\n",
    "            res += [num for _ in range(occ)]\n",
    "    return res\n",
    "            \n",
    "def checksum2(s: str) -> int:\n",
    "    arr = construct_from_dic(construct_dic(s))\n",
    "    return sum((i*el for (i,el) in enumerate(arr)))"
   ]
  },
  {
   "cell_type": "code",
   "execution_count": 7,
   "id": "e7b54645-f331-4173-b29e-05e5275a1357",
   "metadata": {},
   "outputs": [
    {
     "data": {
      "text/plain": [
       "2858"
      ]
     },
     "execution_count": 7,
     "metadata": {},
     "output_type": "execute_result"
    }
   ],
   "source": [
    "checksum2(s_example)"
   ]
  },
  {
   "cell_type": "code",
   "execution_count": 8,
   "id": "a2870754-f621-4cf8-b0f6-3a4435cbdb36",
   "metadata": {},
   "outputs": [
    {
     "data": {
      "text/plain": [
       "6478232802631"
      ]
     },
     "execution_count": 8,
     "metadata": {},
     "output_type": "execute_result"
    }
   ],
   "source": [
    "checksum2(s_input)"
   ]
  }
 ],
 "metadata": {
  "kernelspec": {
   "display_name": "Python 3 (ipykernel)",
   "language": "python",
   "name": "python3"
  },
  "language_info": {
   "codemirror_mode": {
    "name": "ipython",
    "version": 3
   },
   "file_extension": ".py",
   "mimetype": "text/x-python",
   "name": "python",
   "nbconvert_exporter": "python",
   "pygments_lexer": "ipython3",
   "version": "3.12.2"
  }
 },
 "nbformat": 4,
 "nbformat_minor": 5
}
