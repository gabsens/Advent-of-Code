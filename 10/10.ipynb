{
 "cells": [
  {
   "cell_type": "code",
   "execution_count": 1,
   "id": "5fa0b8e9-b7c5-46e5-8161-973abb34685b",
   "metadata": {},
   "outputs": [],
   "source": [
    "from typing import List, Set, Tuple"
   ]
  },
  {
   "cell_type": "code",
   "execution_count": 2,
   "id": "4eb22eed-dc2d-4446-a3ca-da10b51527e8",
   "metadata": {},
   "outputs": [],
   "source": [
    "s_example1 = \"\"\"0123\n",
    "1234\n",
    "8765\n",
    "9876\"\"\"\n",
    "\n",
    "s_example2 = \"\"\"...0...\n",
    "...1...\n",
    "...2...\n",
    "6543456\n",
    "7.....7\n",
    "8.....8\n",
    "9.....9\"\"\"\n",
    "\n",
    "s_example3 = \"\"\"..90..9\n",
    "...1.98\n",
    "...2..7\n",
    "6543456\n",
    "765.987\n",
    "876....\n",
    "987....\"\"\"\n",
    "\n",
    "s_example4 = \"\"\"10..9..\n",
    "2...8..\n",
    "3...7..\n",
    "4567654\n",
    "...8..3\n",
    "...9..2\n",
    ".....01\"\"\"\n",
    "\n",
    "s_example5 = \"\"\"89010123\n",
    "78121874\n",
    "87430965\n",
    "96549874\n",
    "45678903\n",
    "32019012\n",
    "01329801\n",
    "10456732\"\"\"\n",
    "\n",
    "with open('input.txt', 'r') as f:\n",
    "    s_input = f.read()[:-1]\n",
    "\n",
    "def process(s: str) -> List[int]:\n",
    "    return [[int(c) if c != '.' else '.' for c in line] for line in s.split('\\n')]"
   ]
  },
  {
   "cell_type": "markdown",
   "id": "82c06b58-6ea6-46eb-9111-ac21bc7ebc96",
   "metadata": {},
   "source": [
    "# Part 1"
   ]
  },
  {
   "cell_type": "code",
   "execution_count": 3,
   "id": "efeae311-f05f-43c9-a400-a8dc1e12d3be",
   "metadata": {},
   "outputs": [],
   "source": [
    "def sum_scores(s: str) -> int:\n",
    "    arr = process(s)\n",
    "    Lr, Lc = len(arr), len(arr[0])\n",
    "    \n",
    "    cache = {}\n",
    "    def find_nines(i: int, j: int) -> Set[Tuple[int, int]]:\n",
    "        if (i, j) in cache:\n",
    "            return cache[(i, j)]\n",
    "        curr = arr[i][j]\n",
    "        if curr == 9:\n",
    "            cache[(i, j)] = set([(i, j)])\n",
    "            return cache[(i, j)]\n",
    "        nines_neighbors = []\n",
    "        if i > 0 and arr[i-1][j] == curr+1:\n",
    "            nines_neighbors.append(find_nines(i-1, j))\n",
    "        if i < Lr-1 and arr[i+1][j] == curr+1:\n",
    "            nines_neighbors.append(find_nines(i+1, j))\n",
    "        if j > 0 and arr[i][j-1] == curr+1:\n",
    "            nines_neighbors.append(find_nines(i, j-1))\n",
    "        if j < Lc-1 and arr[i][j+1] == curr+1:\n",
    "            nines_neighbors.append(find_nines(i, j+1))\n",
    "        cache[(i, j)] = set().union(*nines_neighbors)\n",
    "        return cache[(i, j)]\n",
    "    \n",
    "    res = 0\n",
    "    for i in range(Lr):\n",
    "        for j in range(Lc):\n",
    "            if arr[i][j] == 0:\n",
    "                score = len(find_nines(i, j))\n",
    "                res += score\n",
    "    return res"
   ]
  },
  {
   "cell_type": "code",
   "execution_count": 4,
   "id": "2b7a1742-a55c-4f53-bbfd-d6c9e3bbafb2",
   "metadata": {},
   "outputs": [
    {
     "data": {
      "text/plain": [
       "True"
      ]
     },
     "execution_count": 4,
     "metadata": {},
     "output_type": "execute_result"
    }
   ],
   "source": [
    "sum_scores(s_example1) == 1"
   ]
  },
  {
   "cell_type": "code",
   "execution_count": 5,
   "id": "d77c2ae4-b256-4f19-8646-059ca7da7e4f",
   "metadata": {},
   "outputs": [
    {
     "data": {
      "text/plain": [
       "True"
      ]
     },
     "execution_count": 5,
     "metadata": {},
     "output_type": "execute_result"
    }
   ],
   "source": [
    "sum_scores(s_example2) == 2"
   ]
  },
  {
   "cell_type": "code",
   "execution_count": 6,
   "id": "a676559f-c22e-4a55-a747-f7228b9dddea",
   "metadata": {},
   "outputs": [
    {
     "data": {
      "text/plain": [
       "True"
      ]
     },
     "execution_count": 6,
     "metadata": {},
     "output_type": "execute_result"
    }
   ],
   "source": [
    "sum_scores(s_example3) == 4"
   ]
  },
  {
   "cell_type": "code",
   "execution_count": 7,
   "id": "94509578-36e9-4e2a-9600-4d22c4541e24",
   "metadata": {},
   "outputs": [
    {
     "data": {
      "text/plain": [
       "True"
      ]
     },
     "execution_count": 7,
     "metadata": {},
     "output_type": "execute_result"
    }
   ],
   "source": [
    "sum_scores(s_example4) == 3"
   ]
  },
  {
   "cell_type": "code",
   "execution_count": 8,
   "id": "331b2c98-19e1-4165-b3dd-394bccbc3093",
   "metadata": {},
   "outputs": [
    {
     "data": {
      "text/plain": [
       "True"
      ]
     },
     "execution_count": 8,
     "metadata": {},
     "output_type": "execute_result"
    }
   ],
   "source": [
    "sum_scores(s_example5) == 36"
   ]
  },
  {
   "cell_type": "code",
   "execution_count": 9,
   "id": "9b723c5e-9667-4821-93d3-1ca6e523f014",
   "metadata": {},
   "outputs": [
    {
     "data": {
      "text/plain": [
       "611"
      ]
     },
     "execution_count": 9,
     "metadata": {},
     "output_type": "execute_result"
    }
   ],
   "source": [
    "sum_scores(s_input)"
   ]
  },
  {
   "cell_type": "markdown",
   "id": "327b47e0-9243-431e-8046-9cfb6d32d694",
   "metadata": {},
   "source": [
    "# Part 2"
   ]
  },
  {
   "cell_type": "code",
   "execution_count": 10,
   "id": "8db7e941-a93c-469a-b58f-b5a3673001c8",
   "metadata": {},
   "outputs": [],
   "source": [
    "s_example1 = \"\"\".....0.\n",
    "..4321.\n",
    "..5..2.\n",
    "..6543.\n",
    "..7..4.\n",
    "..8765.\n",
    "..9....\"\"\"\n",
    "\n",
    "s_example2 = \"\"\"..90..9\n",
    "...1.98\n",
    "...2..7\n",
    "6543456\n",
    "765.987\n",
    "876....\n",
    "987....\"\"\"\n",
    "\n",
    "s_example3 = \"\"\"012345\n",
    "123456\n",
    "234567\n",
    "345678\n",
    "4.6789\n",
    "56789.\"\"\"\n",
    "\n",
    "s_example4 = \"\"\"89010123\n",
    "78121874\n",
    "87430965\n",
    "96549874\n",
    "45678903\n",
    "32019012\n",
    "01329801\n",
    "10456732\"\"\""
   ]
  },
  {
   "cell_type": "code",
   "execution_count": 11,
   "id": "0915d204-1816-488e-aa4c-5d91bee10f08",
   "metadata": {},
   "outputs": [],
   "source": [
    "def sum_ratings(s: str) -> int:\n",
    "    arr = process(s)\n",
    "    Lr, Lc = len(arr), len(arr[0])\n",
    "    \n",
    "    cache = {}\n",
    "    def sum_paths(i: int, j: int) -> int:\n",
    "        if (i, j) in cache:\n",
    "            return cache[(i, j)]\n",
    "        curr = arr[i][j]\n",
    "        if curr == 9:\n",
    "            cache[(i, j)] = 1\n",
    "            return 1\n",
    "        n_path = []\n",
    "        if i > 0 and arr[i-1][j] == curr+1:\n",
    "            n_path.append(sum_paths(i-1, j))\n",
    "        if i < Lr-1 and arr[i+1][j] == curr+1:\n",
    "            n_path.append(sum_paths(i+1, j))\n",
    "        if j > 0 and arr[i][j-1] == curr+1:\n",
    "            n_path.append(sum_paths(i, j-1))\n",
    "        if j < Lc-1 and arr[i][j+1] == curr+1:\n",
    "            n_path.append(sum_paths(i, j+1))\n",
    "        cache[(i, j)] = sum(n_path)\n",
    "        return cache[(i, j)]\n",
    "    \n",
    "    res = 0\n",
    "    for i in range(Lr):\n",
    "        for j in range(Lc):\n",
    "            if arr[i][j] == 0:\n",
    "                res += sum_paths(i, j)\n",
    "    return res"
   ]
  },
  {
   "cell_type": "code",
   "execution_count": 12,
   "id": "1cb76f3e-ea93-4aee-ab27-d8481ed7f52e",
   "metadata": {},
   "outputs": [
    {
     "data": {
      "text/plain": [
       "True"
      ]
     },
     "execution_count": 12,
     "metadata": {},
     "output_type": "execute_result"
    }
   ],
   "source": [
    "sum_ratings(s_example1) == 3"
   ]
  },
  {
   "cell_type": "code",
   "execution_count": 13,
   "id": "24d62a66-5495-4599-9bcf-bf8fbc3b5347",
   "metadata": {},
   "outputs": [
    {
     "data": {
      "text/plain": [
       "True"
      ]
     },
     "execution_count": 13,
     "metadata": {},
     "output_type": "execute_result"
    }
   ],
   "source": [
    "sum_ratings(s_example2) == 13"
   ]
  },
  {
   "cell_type": "code",
   "execution_count": 14,
   "id": "b1f04002-d034-4392-9ce1-990ce725337d",
   "metadata": {},
   "outputs": [
    {
     "data": {
      "text/plain": [
       "True"
      ]
     },
     "execution_count": 14,
     "metadata": {},
     "output_type": "execute_result"
    }
   ],
   "source": [
    "sum_ratings(s_example3) == 227"
   ]
  },
  {
   "cell_type": "code",
   "execution_count": 15,
   "id": "805b4dc5-f167-46aa-881c-c0191592e4a7",
   "metadata": {},
   "outputs": [
    {
     "data": {
      "text/plain": [
       "True"
      ]
     },
     "execution_count": 15,
     "metadata": {},
     "output_type": "execute_result"
    }
   ],
   "source": [
    "sum_ratings(s_example4) == 81"
   ]
  },
  {
   "cell_type": "code",
   "execution_count": 16,
   "id": "0499e873-3336-4300-aef2-8523d7245ec1",
   "metadata": {},
   "outputs": [
    {
     "data": {
      "text/plain": [
       "1380"
      ]
     },
     "execution_count": 16,
     "metadata": {},
     "output_type": "execute_result"
    }
   ],
   "source": [
    "sum_ratings(s_input)"
   ]
  }
 ],
 "metadata": {
  "kernelspec": {
   "display_name": "Python 3 (ipykernel)",
   "language": "python",
   "name": "python3"
  },
  "language_info": {
   "codemirror_mode": {
    "name": "ipython",
    "version": 3
   },
   "file_extension": ".py",
   "mimetype": "text/x-python",
   "name": "python",
   "nbconvert_exporter": "python",
   "pygments_lexer": "ipython3",
   "version": "3.12.2"
  }
 },
 "nbformat": 4,
 "nbformat_minor": 5
}
