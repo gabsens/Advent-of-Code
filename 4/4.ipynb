{
 "cells": [
  {
   "cell_type": "markdown",
   "id": "89ecb197-4f90-4d8f-a996-5d910731d2cb",
   "metadata": {},
   "source": [
    "# Part 1"
   ]
  },
  {
   "cell_type": "code",
   "execution_count": 1,
   "id": "69b3bab6-9631-4abf-9e26-ac37f1dc26e8",
   "metadata": {},
   "outputs": [],
   "source": [
    "s_example = \"\"\"MMMSXXMASM\n",
    "MSAMXMSMSA\n",
    "AMXSXMAAMM\n",
    "MSAMASMSMX\n",
    "XMASAMXAMM\n",
    "XXAMMXXAMA\n",
    "SMSMSASXSS\n",
    "SAXAMASAAA\n",
    "MAMMMXMMMM\n",
    "MXMXAXMASX\"\"\"\n",
    "\n",
    "with open('input.txt', 'r') as f:\n",
    "    s_input = f.read()"
   ]
  },
  {
   "cell_type": "code",
   "execution_count": 2,
   "id": "1cad8f75-965e-44d3-b406-8e52c0702f38",
   "metadata": {},
   "outputs": [],
   "source": [
    "def is_up(i, j, arr):\n",
    "    read = []\n",
    "    for k in range(0, 4):\n",
    "        if i-k < 0:\n",
    "            break\n",
    "        read.append(arr[i-k][j])\n",
    "    return ''.join(read) == 'XMAS'\n",
    "\n",
    "def is_upper_left(i, j, arr):\n",
    "    read = []\n",
    "    for k in range(0, 4):\n",
    "        if (i-k < 0) or (j-k < 0):\n",
    "            break\n",
    "        read.append(arr[i-k][j-k])\n",
    "    return ''.join(read) == 'XMAS'\n",
    "\n",
    "def is_left(i, j, arr):\n",
    "    read = []\n",
    "    for k in range(0, 4):\n",
    "        if j-k < 0:\n",
    "            break\n",
    "        read.append(arr[i][j-k])\n",
    "    return ''.join(read) == 'XMAS'\n",
    "\n",
    "def is_lower_left(i, j, arr):\n",
    "    L = len(arr)\n",
    "    read = []\n",
    "    for k in range(0, 4):\n",
    "        if (i+k >= L) or (j-k < 0):\n",
    "            break\n",
    "        read.append(arr[i+k][j-k])\n",
    "    return ''.join(read) == 'XMAS'\n",
    "\n",
    "def is_down(i, j, arr):\n",
    "    L = len(arr)\n",
    "    read = []\n",
    "    for k in range(0, 4):\n",
    "        if i+k >= L:\n",
    "            break\n",
    "        read.append(arr[i+k][j])\n",
    "    return ''.join(read) == 'XMAS'\n",
    "\n",
    "def is_lower_right(i, j, arr):\n",
    "    L = len(arr)\n",
    "    read = []\n",
    "    for k in range(0, 4):\n",
    "        if (i+k >= L) or (j+k >= L):\n",
    "            break\n",
    "        read.append(arr[i+k][j+k])\n",
    "    return ''.join(read) == 'XMAS'\n",
    "\n",
    "def is_right(i, j, arr):\n",
    "    L = len(arr)\n",
    "    read = []\n",
    "    for k in range(0, 4):\n",
    "        if j+k >= L:\n",
    "            break\n",
    "        read.append(arr[i][j+k])\n",
    "    return ''.join(read) == 'XMAS'\n",
    "\n",
    "def is_upper_right(i, j, arr):\n",
    "    L = len(arr)\n",
    "    read = []\n",
    "    for k in range(0, 4):\n",
    "        if (i-k < 0) or (j+k >= L):\n",
    "            break\n",
    "        read.append(arr[i-k][j+k])\n",
    "    return ''.join(read) == 'XMAS'"
   ]
  },
  {
   "cell_type": "code",
   "execution_count": 3,
   "id": "92bc21a6-b526-4de4-8df8-59a39726f85d",
   "metadata": {},
   "outputs": [],
   "source": [
    "def string_to_arr(s):\n",
    "    return [[c for c in line] for line in s.split('\\n') if line]\n",
    "\n",
    "def count(s):\n",
    "    res = 0\n",
    "    arr = string_to_arr(s)\n",
    "    L = len(arr)\n",
    "    for i in range(L):\n",
    "        for j in range(L):\n",
    "            tests = [\n",
    "                is_up(i, j, arr),\n",
    "                is_upper_left(i, j, arr),\n",
    "                is_left(i, j, arr),\n",
    "                is_lower_left(i, j, arr),\n",
    "                is_down(i, j, arr),\n",
    "                is_lower_right(i, j, arr),\n",
    "                is_right(i, j, arr),\n",
    "                is_upper_right(i, j, arr),\n",
    "            ]\n",
    "            res += sum(tests)\n",
    "    return res"
   ]
  },
  {
   "cell_type": "code",
   "execution_count": 4,
   "id": "a0d00956-c430-43ab-bffa-70c526747171",
   "metadata": {},
   "outputs": [
    {
     "data": {
      "text/plain": [
       "18"
      ]
     },
     "execution_count": 4,
     "metadata": {},
     "output_type": "execute_result"
    }
   ],
   "source": [
    "count(s_example)"
   ]
  },
  {
   "cell_type": "code",
   "execution_count": 5,
   "id": "cb63a018-0b71-4ba4-88cf-4869e75da8a2",
   "metadata": {},
   "outputs": [
    {
     "data": {
      "text/plain": [
       "2493"
      ]
     },
     "execution_count": 5,
     "metadata": {},
     "output_type": "execute_result"
    }
   ],
   "source": [
    "count(s_input)"
   ]
  },
  {
   "cell_type": "markdown",
   "id": "f5791dc6-81f1-4e34-aa91-0335cdd9581c",
   "metadata": {},
   "source": [
    "# Part 2"
   ]
  },
  {
   "cell_type": "code",
   "execution_count": 6,
   "id": "95728161-bd47-4d83-823d-d1f17e9bd7a1",
   "metadata": {},
   "outputs": [],
   "source": [
    "def matches(i, j, arr):\n",
    "    if arr[i][j] != 'A':\n",
    "        return False\n",
    "    diag = (arr[i-1][j-1], arr[i+1][j+1])\n",
    "    anti_diag = (arr[i+1][j-1], arr[i-1][j+1])\n",
    "    return all(el in [('M', 'S'), ('S', 'M')] for el in (diag, anti_diag)) \n",
    "    #omitting A, test if [(diag is M,S or S,M) and (antidiag is M,S or S,M)]\n",
    "\n",
    "def count_x_mas(s):\n",
    "    res = 0\n",
    "    arr = string_to_arr(s)\n",
    "    L = len(arr)\n",
    "    for i in range(1, L-1):\n",
    "        for j in range(1, L-1):\n",
    "            if matches(i, j, arr):\n",
    "                res += 1\n",
    "    return res"
   ]
  },
  {
   "cell_type": "code",
   "execution_count": 7,
   "id": "687864f8-944f-43f9-bbc7-017942e3785e",
   "metadata": {},
   "outputs": [
    {
     "data": {
      "text/plain": [
       "9"
      ]
     },
     "execution_count": 7,
     "metadata": {},
     "output_type": "execute_result"
    }
   ],
   "source": [
    "count_x_mas(s_example)"
   ]
  },
  {
   "cell_type": "code",
   "execution_count": 8,
   "id": "b78a0083-95b4-43a8-88b9-0151417bd5ff",
   "metadata": {},
   "outputs": [
    {
     "data": {
      "text/plain": [
       "1890"
      ]
     },
     "execution_count": 8,
     "metadata": {},
     "output_type": "execute_result"
    }
   ],
   "source": [
    "count_x_mas(s_input)"
   ]
  }
 ],
 "metadata": {
  "kernelspec": {
   "display_name": "Python 3 (ipykernel)",
   "language": "python",
   "name": "python3"
  },
  "language_info": {
   "codemirror_mode": {
    "name": "ipython",
    "version": 3
   },
   "file_extension": ".py",
   "mimetype": "text/x-python",
   "name": "python",
   "nbconvert_exporter": "python",
   "pygments_lexer": "ipython3",
   "version": "3.12.2"
  }
 },
 "nbformat": 4,
 "nbformat_minor": 5
}
