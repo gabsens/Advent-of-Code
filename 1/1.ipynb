{
 "cells": [
  {
   "cell_type": "code",
   "execution_count": 1,
   "id": "e2343ce8-decc-40c9-ad56-5acfe3e0cae6",
   "metadata": {},
   "outputs": [],
   "source": [
    "import numpy as np"
   ]
  },
  {
   "cell_type": "markdown",
   "id": "5a5ebf88-8eee-402e-8bf5-a93c7940baca",
   "metadata": {},
   "source": [
    "# Part 1"
   ]
  },
  {
   "cell_type": "code",
   "execution_count": 2,
   "id": "a000a855-bc99-4a1b-89bf-e0e399f9fced",
   "metadata": {},
   "outputs": [
    {
     "name": "stdout",
     "output_type": "stream",
     "text": [
      "1938424.0\n"
     ]
    }
   ],
   "source": [
    "def compute_distance(l1, l2):\n",
    "    diff = np.sort(l1)-np.sort(l2)\n",
    "    return np.linalg.norm(diff, 1)\n",
    "    \n",
    "X = np.loadtxt('./1/input.txt', dtype=\"int\")\n",
    "print(compute_distance(X[:,0], X[:,1]))"
   ]
  },
  {
   "cell_type": "markdown",
   "id": "18e8e210-62c1-4d15-a549-f63cca4040e2",
   "metadata": {},
   "source": [
    "Time complexity: O(n log n) where n is the length of each list  \n",
    "Space complexity: O(n)"
   ]
  },
  {
   "cell_type": "markdown",
   "id": "12291140-99c5-4be8-9338-c0443e048714",
   "metadata": {},
   "source": [
    "# Part 2"
   ]
  },
  {
   "cell_type": "code",
   "execution_count": 3,
   "id": "8e4a8e17-0e22-4dcd-9f60-6c8668badca4",
   "metadata": {},
   "outputs": [
    {
     "name": "stdout",
     "output_type": "stream",
     "text": [
      "22014209\n"
     ]
    }
   ],
   "source": [
    "def get_counts(l):\n",
    "    res = {}\n",
    "    for val in l:\n",
    "        res[val] = res.setdefault(val, 0) + 1\n",
    "    return res\n",
    "\n",
    "def compute_score(l1, l2):\n",
    "    counts = get_counts(l2)\n",
    "    res = 0\n",
    "    for val in l1:\n",
    "        res += counts.get(val, 0) * val\n",
    "    return res\n",
    "\n",
    "X = np.loadtxt('./1/input.txt', dtype=\"int\")\n",
    "print(compute_score(X[:,0], X[:,1]))"
   ]
  },
  {
   "cell_type": "markdown",
   "id": "7369391f-c366-4085-bc02-fa53121faa52",
   "metadata": {},
   "source": [
    "Time complexity: O(n) where n is the length of each list  \n",
    "Space complexity: O(n)"
   ]
  },
  {
   "cell_type": "code",
   "execution_count": null,
   "id": "ec0adab6-b058-49b2-907c-4ec40b92883e",
   "metadata": {},
   "outputs": [],
   "source": []
  }
 ],
 "metadata": {
  "kernelspec": {
   "display_name": "Python 3 (ipykernel)",
   "language": "python",
   "name": "python3"
  },
  "language_info": {
   "codemirror_mode": {
    "name": "ipython",
    "version": 3
   },
   "file_extension": ".py",
   "mimetype": "text/x-python",
   "name": "python",
   "nbconvert_exporter": "python",
   "pygments_lexer": "ipython3",
   "version": "3.12.2"
  }
 },
 "nbformat": 4,
 "nbformat_minor": 5
}
