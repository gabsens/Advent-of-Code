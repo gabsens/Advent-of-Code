{
 "cells": [
  {
   "cell_type": "code",
   "execution_count": 1,
   "id": "e2343ce8-decc-40c9-ad56-5acfe3e0cae6",
   "metadata": {},
   "outputs": [],
   "source": [
    "import numpy as np\n",
    "from typing import Dict, List"
   ]
  },
  {
   "cell_type": "code",
   "execution_count": 2,
   "id": "506ce893-10c9-44b1-ac37-00354db5eadd",
   "metadata": {},
   "outputs": [],
   "source": [
    "s_example = \"\"\"3   4\n",
    "4   3\n",
    "2   5\n",
    "1   3\n",
    "3   9\n",
    "3   3\"\"\"\n",
    "\n",
    "def process(s: str) -> np.ndarray:\n",
    "    \"\"\"\n",
    "    Generate numpy array from string\n",
    "    \"\"\"\n",
    "    \n",
    "    return np.array([list(map(int, line.split('  '))) for line in s.split('\\n')])\n",
    "\n",
    "X = np.loadtxt('input.txt', dtype=\"int\")"
   ]
  },
  {
   "cell_type": "markdown",
   "id": "5a5ebf88-8eee-402e-8bf5-a93c7940baca",
   "metadata": {},
   "source": [
    "# Part 1"
   ]
  },
  {
   "cell_type": "code",
   "execution_count": 3,
   "id": "a000a855-bc99-4a1b-89bf-e0e399f9fced",
   "metadata": {},
   "outputs": [],
   "source": [
    "def distance(X: np.ndarray) -> float:\n",
    "    diff = np.sort(X[:,0]) - np.sort(X[:,1])\n",
    "    return np.linalg.norm(diff, 1).item() #.item() needed to recover native python type"
   ]
  },
  {
   "cell_type": "code",
   "execution_count": 4,
   "id": "aa3bc536-ce6d-44d7-88bc-a9c416d76145",
   "metadata": {},
   "outputs": [
    {
     "data": {
      "text/plain": [
       "11.0"
      ]
     },
     "execution_count": 4,
     "metadata": {},
     "output_type": "execute_result"
    }
   ],
   "source": [
    "distance(process(s_example))"
   ]
  },
  {
   "cell_type": "code",
   "execution_count": 5,
   "id": "3529fcbc-eb07-431c-8790-5dc33fb35cc2",
   "metadata": {},
   "outputs": [
    {
     "data": {
      "text/plain": [
       "1938424.0"
      ]
     },
     "execution_count": 5,
     "metadata": {},
     "output_type": "execute_result"
    }
   ],
   "source": [
    "distance(X)"
   ]
  },
  {
   "cell_type": "markdown",
   "id": "18e8e210-62c1-4d15-a549-f63cca4040e2",
   "metadata": {},
   "source": [
    "Time complexity: O(n log n) where n is the length of each list  \n",
    "Space complexity: O(n)"
   ]
  },
  {
   "cell_type": "markdown",
   "id": "12291140-99c5-4be8-9338-c0443e048714",
   "metadata": {},
   "source": [
    "# Part 2"
   ]
  },
  {
   "cell_type": "code",
   "execution_count": 6,
   "id": "8e4a8e17-0e22-4dcd-9f60-6c8668badca4",
   "metadata": {},
   "outputs": [],
   "source": [
    "def get_counts(l: List[int]) -> Dict[int, int]:\n",
    "    \"\"\"\n",
    "    Compute occurrences of values in l\n",
    "    \"\"\"\n",
    "    \n",
    "    res = {}\n",
    "    for val in l:\n",
    "        res[val] = res.get(val, 0) + 1\n",
    "    return res\n",
    "\n",
    "def sim_score(X: np.ndarray) -> int:\n",
    "    l1, l2 = X[:,0], X[:,1]\n",
    "    counts = get_counts(l2)\n",
    "    res = 0\n",
    "    for val in l1:\n",
    "        res += counts.get(val, 0) * val\n",
    "    return res.item()"
   ]
  },
  {
   "cell_type": "code",
   "execution_count": 7,
   "id": "f1a1a6b1-a8cb-40f3-952a-30c2d16d274e",
   "metadata": {},
   "outputs": [
    {
     "data": {
      "text/plain": [
       "31"
      ]
     },
     "execution_count": 7,
     "metadata": {},
     "output_type": "execute_result"
    }
   ],
   "source": [
    "sim_score(process(s_example))"
   ]
  },
  {
   "cell_type": "code",
   "execution_count": 8,
   "id": "fdbb054f-383a-49fc-a352-ddacb5a52e28",
   "metadata": {},
   "outputs": [
    {
     "data": {
      "text/plain": [
       "22014209"
      ]
     },
     "execution_count": 8,
     "metadata": {},
     "output_type": "execute_result"
    }
   ],
   "source": [
    "sim_score(X)"
   ]
  },
  {
   "cell_type": "markdown",
   "id": "7369391f-c366-4085-bc02-fa53121faa52",
   "metadata": {},
   "source": [
    "Time complexity: O(n) where n is the length of each list  \n",
    "Space complexity: O(n)"
   ]
  }
 ],
 "metadata": {
  "kernelspec": {
   "display_name": "Python 3 (ipykernel)",
   "language": "python",
   "name": "python3"
  },
  "language_info": {
   "codemirror_mode": {
    "name": "ipython",
    "version": 3
   },
   "file_extension": ".py",
   "mimetype": "text/x-python",
   "name": "python",
   "nbconvert_exporter": "python",
   "pygments_lexer": "ipython3",
   "version": "3.12.2"
  }
 },
 "nbformat": 4,
 "nbformat_minor": 5
}
