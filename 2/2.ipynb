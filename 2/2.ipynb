{
 "cells": [
  {
   "cell_type": "code",
   "execution_count": 1,
   "id": "b3d58bae-9691-477f-94c4-4727b33a4c19",
   "metadata": {},
   "outputs": [],
   "source": [
    "from typing import List"
   ]
  },
  {
   "cell_type": "code",
   "execution_count": 2,
   "id": "2def49e5-0f38-49ba-8500-06774c777ae1",
   "metadata": {},
   "outputs": [],
   "source": [
    "s_example = \"\"\"7 6 4 2 1\n",
    "1 2 7 8 9\n",
    "9 7 6 2 1\n",
    "1 3 2 4 5\n",
    "8 6 4 4 1\n",
    "1 3 6 7 9\"\"\"\n",
    "\n",
    "with open('input.txt', 'r') as f:\n",
    "    s_input = f.read()[:-1]\n",
    "\n",
    "def process(s: str) -> List[List[int]]:\n",
    "    return [[int(c) for c in line.split(' ')] for line in s.split('\\n')]"
   ]
  },
  {
   "cell_type": "markdown",
   "id": "269f3330-7532-4bb0-8e4a-436fbd238af4",
   "metadata": {},
   "source": [
    "# Part 1"
   ]
  },
  {
   "cell_type": "code",
   "execution_count": 3,
   "id": "709f258f-2293-4396-9aaa-3990ed74412c",
   "metadata": {},
   "outputs": [],
   "source": [
    "def get_sign(x: int) -> int:\n",
    "    if x > 0:\n",
    "        return 1\n",
    "    if x < 0:\n",
    "        return -1\n",
    "    return 0\n",
    "        \n",
    "def is_safe(report: List[int]) -> bool:\n",
    "    L = len(report)\n",
    "    prev_sign = 0\n",
    "    for i in range(L-1): #range is empty when L=1\n",
    "        diff = report[i+1] - report[i]\n",
    "        sign = get_sign(diff)\n",
    "        if (sign == 0) or (prev_sign != 0 and sign != prev_sign): \n",
    "        #early stopping iff either new diff is 0, or we're not at the start and we see a change in monotonicity\n",
    "            return False\n",
    "        if not(1 <= abs(diff) <= 3):\n",
    "            return False\n",
    "        prev_sign = sign\n",
    "    return True\n",
    "\n",
    "def count_safe(s: str) -> int:\n",
    "    reports = process(s)\n",
    "    return sum([is_safe(report) for report in reports])"
   ]
  },
  {
   "cell_type": "code",
   "execution_count": 4,
   "id": "9fb98560-9072-4465-b69b-a93467cee5c9",
   "metadata": {},
   "outputs": [
    {
     "data": {
      "text/plain": [
       "2"
      ]
     },
     "execution_count": 4,
     "metadata": {},
     "output_type": "execute_result"
    }
   ],
   "source": [
    "count_safe(s_example)"
   ]
  },
  {
   "cell_type": "code",
   "execution_count": 5,
   "id": "3aa293e0-690c-4aa2-8b6a-1646707ab6b9",
   "metadata": {},
   "outputs": [
    {
     "data": {
      "text/plain": [
       "371"
      ]
     },
     "execution_count": 5,
     "metadata": {},
     "output_type": "execute_result"
    }
   ],
   "source": [
    "count_safe(s_input)"
   ]
  },
  {
   "cell_type": "markdown",
   "id": "401e90b4-55fc-401a-b6fc-0b6365dc1889",
   "metadata": {},
   "source": [
    "# Part 2\n",
    "\n",
    "Bruteforce solution"
   ]
  },
  {
   "cell_type": "code",
   "execution_count": 6,
   "id": "3281826d-b25c-4682-9992-9ef0bde11850",
   "metadata": {},
   "outputs": [],
   "source": [
    "def is_safe_damp(report: List[int]) -> bool:\n",
    "    L = len(report)\n",
    "    for i in range(L):\n",
    "        if is_safe(report[:i] + report[i+1:]):\n",
    "            return True\n",
    "    return False\n",
    "\n",
    "def count_safe_damp(s: str) -> int:\n",
    "    reports = process(s)\n",
    "    return sum([is_safe_damp(report) for report in reports])"
   ]
  },
  {
   "cell_type": "code",
   "execution_count": 7,
   "id": "033d590e-addf-4005-a1cb-1541523eff4f",
   "metadata": {},
   "outputs": [
    {
     "data": {
      "text/plain": [
       "4"
      ]
     },
     "execution_count": 7,
     "metadata": {},
     "output_type": "execute_result"
    }
   ],
   "source": [
    "count_safe_damp(s_example)"
   ]
  },
  {
   "cell_type": "code",
   "execution_count": 8,
   "id": "fb78c005-b37d-4f19-bc74-92e6a61a1ff3",
   "metadata": {},
   "outputs": [
    {
     "data": {
      "text/plain": [
       "426"
      ]
     },
     "execution_count": 8,
     "metadata": {},
     "output_type": "execute_result"
    }
   ],
   "source": [
    "count_safe_damp(s_input)  "
   ]
  }
 ],
 "metadata": {
  "kernelspec": {
   "display_name": "Python 3 (ipykernel)",
   "language": "python",
   "name": "python3"
  },
  "language_info": {
   "codemirror_mode": {
    "name": "ipython",
    "version": 3
   },
   "file_extension": ".py",
   "mimetype": "text/x-python",
   "name": "python",
   "nbconvert_exporter": "python",
   "pygments_lexer": "ipython3",
   "version": "3.12.2"
  }
 },
 "nbformat": 4,
 "nbformat_minor": 5
}
