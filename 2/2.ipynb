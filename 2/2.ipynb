{
 "cells": [
  {
   "cell_type": "code",
   "execution_count": 1,
   "id": "b3d58bae-9691-477f-94c4-4727b33a4c19",
   "metadata": {},
   "outputs": [],
   "source": [
    "import numpy as np"
   ]
  },
  {
   "cell_type": "markdown",
   "id": "269f3330-7532-4bb0-8e4a-436fbd238af4",
   "metadata": {},
   "source": [
    "# Part 1"
   ]
  },
  {
   "cell_type": "code",
   "execution_count": 2,
   "id": "2def49e5-0f38-49ba-8500-06774c777ae1",
   "metadata": {},
   "outputs": [
    {
     "name": "stdout",
     "output_type": "stream",
     "text": [
      "Minimum length of a report: 5\n"
     ]
    }
   ],
   "source": [
    "def read_array_from_string(s):\n",
    "   return [[int(c) for c in line.split(' ')] for line in s.split('\\n') if line] #if string ends with \\n, remove empty line, hence the final if\n",
    "\n",
    "s_example = \"\"\"7 6 4 2 1\n",
    "1 2 7 8 9\n",
    "9 7 6 2 1\n",
    "1 3 2 4 5\n",
    "8 6 4 4 1\n",
    "1 3 6 7 9\"\"\"\n",
    "\n",
    "reports_example = read_array_from_string(s_example)\n",
    "\n",
    "with open('input.txt', 'r') as f:\n",
    "    s_input = f.read()\n",
    "    reports_input = read_array_from_string(s_input)\n",
    "\n",
    "print(\"Minimum length of a report:\", min([len(report) for report in reports_input]))"
   ]
  },
  {
   "cell_type": "code",
   "execution_count": 3,
   "id": "709f258f-2293-4396-9aaa-3990ed74412c",
   "metadata": {},
   "outputs": [],
   "source": [
    "def compute_sign(x):\n",
    "    if x > 0:\n",
    "        return 1\n",
    "    if x < 0:\n",
    "        return -1\n",
    "    else:\n",
    "        return 0\n",
    "        \n",
    "def is_safe(report):\n",
    "    L = len(report)\n",
    "    prev_sign = 0\n",
    "    for i in range(L-1): #range is empty when L=1\n",
    "        variation = report[i+1] - report[i]\n",
    "        sign = compute_sign(variation)\n",
    "        if (sign == 0) or (prev_sign != 0 and sign != prev_sign): \n",
    "        #early stopping iff either new variation is 0, or we're not at the start and we see a change in monotonicity\n",
    "            return False\n",
    "        if not(1 <= abs(variation) <= 3):\n",
    "            return False\n",
    "        prev_sign = sign\n",
    "    return True\n",
    "\n",
    "def count_safe(reports):\n",
    "    return sum([is_safe(report) for report in reports])"
   ]
  },
  {
   "cell_type": "code",
   "execution_count": 4,
   "id": "5267097f-33fb-45dc-a71b-7d47534b3862",
   "metadata": {},
   "outputs": [
    {
     "data": {
      "text/plain": [
       "[True, False, False, False, False, True]"
      ]
     },
     "execution_count": 4,
     "metadata": {},
     "output_type": "execute_result"
    }
   ],
   "source": [
    "[is_safe(report) for report in reports_example]"
   ]
  },
  {
   "cell_type": "code",
   "execution_count": 5,
   "id": "9fb98560-9072-4465-b69b-a93467cee5c9",
   "metadata": {},
   "outputs": [
    {
     "name": "stdout",
     "output_type": "stream",
     "text": [
      "371\n"
     ]
    }
   ],
   "source": [
    "print(count_safe(reports_input))  "
   ]
  },
  {
   "cell_type": "markdown",
   "id": "401e90b4-55fc-401a-b6fc-0b6365dc1889",
   "metadata": {},
   "source": [
    "# Part 2\n",
    "\n",
    "## Bruteforce solution"
   ]
  },
  {
   "cell_type": "code",
   "execution_count": 6,
   "id": "3281826d-b25c-4682-9992-9ef0bde11850",
   "metadata": {},
   "outputs": [],
   "source": [
    "def is_safe_damp(report):\n",
    "    L = len(report)\n",
    "    for i in range(L):\n",
    "        if is_safe(report[:i] + report[i+1:]):\n",
    "            return True\n",
    "    return False\n",
    "\n",
    "def count_safe_damp(reports):\n",
    "    return sum([is_safe_damp(report) for report in reports])"
   ]
  },
  {
   "cell_type": "code",
   "execution_count": 7,
   "id": "d478c5e6-720c-431c-8244-1f5e66a86666",
   "metadata": {},
   "outputs": [
    {
     "data": {
      "text/plain": [
       "[True, False, False, True, True, True]"
      ]
     },
     "execution_count": 7,
     "metadata": {},
     "output_type": "execute_result"
    }
   ],
   "source": [
    "[is_safe_damp(report) for report in reports_example]"
   ]
  },
  {
   "cell_type": "code",
   "execution_count": 8,
   "id": "033d590e-addf-4005-a1cb-1541523eff4f",
   "metadata": {},
   "outputs": [
    {
     "name": "stdout",
     "output_type": "stream",
     "text": [
      "426\n"
     ]
    }
   ],
   "source": [
    "print(count_safe_damp(reports_input))  "
   ]
  }
 ],
 "metadata": {
  "kernelspec": {
   "display_name": "Python 3 (ipykernel)",
   "language": "python",
   "name": "python3"
  },
  "language_info": {
   "codemirror_mode": {
    "name": "ipython",
    "version": 3
   },
   "file_extension": ".py",
   "mimetype": "text/x-python",
   "name": "python",
   "nbconvert_exporter": "python",
   "pygments_lexer": "ipython3",
   "version": "3.12.2"
  }
 },
 "nbformat": 4,
 "nbformat_minor": 5
}
