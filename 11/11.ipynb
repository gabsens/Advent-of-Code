{
 "cells": [
  {
   "cell_type": "code",
   "execution_count": 1,
   "id": "b552cb47-a1fe-4e2b-9031-e0785f78c753",
   "metadata": {},
   "outputs": [],
   "source": [
    "s_example1 = \"\"\"0 1 10 99 999\"\"\"\n",
    "s_example2 = \"\"\"125 17\"\"\"\n",
    "\n",
    "with open('input.txt', 'r') as f:\n",
    "    s_input = f.read()[:-1]\n",
    "\n",
    "def process(s):\n",
    "    return [int(ss) for ss in s.split(' ')]"
   ]
  },
  {
   "cell_type": "markdown",
   "id": "b4897fe7-d2cb-41fd-bc9f-c3e83d1d04c9",
   "metadata": {},
   "source": [
    "# Part 1"
   ]
  },
  {
   "cell_type": "code",
   "execution_count": 2,
   "id": "e1eb147c-d25a-4290-8203-eefb71dd6272",
   "metadata": {},
   "outputs": [],
   "source": [
    "class Tree:\n",
    "    def __init__(self, data=None):\n",
    "        self.children = []\n",
    "        self.data = data\n",
    "\n",
    "def init_tree(s):\n",
    "    root = Tree()\n",
    "    arr = process(s)\n",
    "    for el in arr:\n",
    "        root.children.append(Tree(el))\n",
    "    return root\n",
    "\n",
    "def compute_split(n):\n",
    "    n_str = str(n)\n",
    "    L = len(n_str)\n",
    "    left, right = n_str[:L//2], n_str[L//2:]\n",
    "    return int(left), int(right)\n",
    "\n",
    "def update(root):\n",
    "    if root.data == None:\n",
    "        return sum((update(child) for child in root.children))\n",
    "    data = root.data\n",
    "    if data == 0:\n",
    "        root.data = 1\n",
    "        return 1\n",
    "    elif len(str(data)) % 2 == 0:\n",
    "        left, right = compute_split(data)\n",
    "        root.data = None\n",
    "        root.children = [Tree(left), Tree(right)]\n",
    "        return 2\n",
    "    else:\n",
    "        root.data = data * 2024\n",
    "        return 1\n",
    "        \n",
    "def count_stones(s, n_blinks):\n",
    "    res = 0\n",
    "    root = init_tree(s)\n",
    "    for _ in range(n_blinks):\n",
    "        res = update(root)\n",
    "    return res"
   ]
  },
  {
   "cell_type": "code",
   "execution_count": 3,
   "id": "640cff90-1109-4dab-923e-13547e0eb360",
   "metadata": {},
   "outputs": [
    {
     "data": {
      "text/plain": [
       "True"
      ]
     },
     "execution_count": 3,
     "metadata": {},
     "output_type": "execute_result"
    }
   ],
   "source": [
    "count_stones(s_example1, 1) == 7"
   ]
  },
  {
   "cell_type": "code",
   "execution_count": 4,
   "id": "ebf97622-7a13-424c-a5c8-5370b9b774d9",
   "metadata": {},
   "outputs": [
    {
     "data": {
      "text/plain": [
       "True"
      ]
     },
     "execution_count": 4,
     "metadata": {},
     "output_type": "execute_result"
    }
   ],
   "source": [
    "count_stones(s_example2, 6) == 22"
   ]
  },
  {
   "cell_type": "code",
   "execution_count": 5,
   "id": "3c9a1b14-9c33-47e6-ba0b-ef644223c108",
   "metadata": {},
   "outputs": [
    {
     "data": {
      "text/plain": [
       "True"
      ]
     },
     "execution_count": 5,
     "metadata": {},
     "output_type": "execute_result"
    }
   ],
   "source": [
    "count_stones(s_example2, 25) == 55312"
   ]
  },
  {
   "cell_type": "code",
   "execution_count": 6,
   "id": "db2012cf-ac33-45dd-bb3e-c9025de7ebf1",
   "metadata": {},
   "outputs": [
    {
     "data": {
      "text/plain": [
       "239714"
      ]
     },
     "execution_count": 6,
     "metadata": {},
     "output_type": "execute_result"
    }
   ],
   "source": [
    "count_stones(s_input, 25)"
   ]
  },
  {
   "cell_type": "markdown",
   "id": "50438015-8483-41eb-9baa-35a82b00808d",
   "metadata": {},
   "source": [
    "# Part 2 "
   ]
  },
  {
   "cell_type": "code",
   "execution_count": 7,
   "id": "f6bd8669-77fd-4e68-81f5-2017f7dbe6d5",
   "metadata": {},
   "outputs": [],
   "source": [
    "cache = {}\n",
    "def count_from_el_after_blinks(el, n_blinks):\n",
    "    if (el, n_blinks) in cache:\n",
    "        return cache[(el, n_blinks)]\n",
    "    if n_blinks == 0:\n",
    "        return 1\n",
    "    if el == 0:\n",
    "        cache[(0, n_blinks)] = count_from_el_after_blinks(1, n_blinks-1)\n",
    "    elif len(str(el)) % 2 == 0:\n",
    "        left, right = compute_split(el)\n",
    "        cache[(el, n_blinks)] = count_from_el_after_blinks(left, n_blinks-1) + count_from_el_after_blinks(right, n_blinks-1)\n",
    "    else:\n",
    "        cache[(el, n_blinks)] = count_from_el_after_blinks(el * 2024, n_blinks-1)\n",
    "    return cache[(el, n_blinks)]\n",
    "\n",
    "def count_stones2(s, n_blinks):\n",
    "    arr = process(s)\n",
    "    return sum((count_from_el_after_blinks(el, n_blinks) for el in arr))"
   ]
  },
  {
   "cell_type": "code",
   "execution_count": 8,
   "id": "36dfa10a-878e-47db-a242-b4d65e0bd4dc",
   "metadata": {},
   "outputs": [
    {
     "data": {
      "text/plain": [
       "284973560658514"
      ]
     },
     "execution_count": 8,
     "metadata": {},
     "output_type": "execute_result"
    }
   ],
   "source": [
    "count_stones2(s_input, 75)"
   ]
  },
  {
   "cell_type": "code",
   "execution_count": null,
   "id": "bdadc0e2-7ba8-4463-96bb-c10cb443b305",
   "metadata": {},
   "outputs": [],
   "source": []
  }
 ],
 "metadata": {
  "kernelspec": {
   "display_name": "Python 3 (ipykernel)",
   "language": "python",
   "name": "python3"
  },
  "language_info": {
   "codemirror_mode": {
    "name": "ipython",
    "version": 3
   },
   "file_extension": ".py",
   "mimetype": "text/x-python",
   "name": "python",
   "nbconvert_exporter": "python",
   "pygments_lexer": "ipython3",
   "version": "3.12.2"
  }
 },
 "nbformat": 4,
 "nbformat_minor": 5
}
