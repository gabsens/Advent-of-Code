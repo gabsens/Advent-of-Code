{
 "cells": [
  {
   "cell_type": "markdown",
   "id": "35946233-801b-4e52-8226-0184d8fd8d5a",
   "metadata": {},
   "source": [
    "# Part 1"
   ]
  },
  {
   "cell_type": "code",
   "execution_count": 1,
   "id": "24317c25-12d9-4750-8acf-9c90d32273b1",
   "metadata": {},
   "outputs": [],
   "source": [
    "s_example = \"\"\"47|53\n",
    "97|13\n",
    "97|61\n",
    "97|47\n",
    "75|29\n",
    "61|13\n",
    "75|53\n",
    "29|13\n",
    "97|29\n",
    "53|29\n",
    "61|53\n",
    "97|53\n",
    "61|29\n",
    "47|13\n",
    "75|47\n",
    "97|75\n",
    "47|61\n",
    "75|61\n",
    "47|29\n",
    "75|13\n",
    "53|13\n",
    "\n",
    "75,47,61,53,29\n",
    "97,61,53,29,13\n",
    "75,29,13\n",
    "75,97,47,61,53\n",
    "61,13,29\n",
    "97,13,75,29,47\"\"\"\n",
    "\n",
    "with open('input.txt', 'r') as f:\n",
    "    s_input = f.read()[:-1]\n",
    "\n",
    "def process_string(s):\n",
    "    rules = [line for line in s.split('\\n') if '|' in line]\n",
    "    rules = [[int(num_string) for num_string in rule.split('|')] for rule in rules]\n",
    "    updates = [line for line in s.split('\\n') if ',' in line]\n",
    "    updates = [[int(num_string) for num_string in update.split(',')] for update in updates]\n",
    "    return rules, updates\n",
    "\n",
    "def make_rules_dict(rules):\n",
    "    rules_dict = {}\n",
    "    for a,b in rules:\n",
    "        rules_dict.setdefault(a, set()).add(b)\n",
    "    return rules_dict\n",
    "\n",
    "def is_valid(rules_dict, update):\n",
    "    empty = set()\n",
    "    return not any(a in rules_dict.get(b, empty) for a,b in zip(update, update[1:]))\n",
    "\n",
    "def compute(s):\n",
    "    rules, updates = process_string(s)\n",
    "    rules_dict = make_rules_dict(rules)\n",
    "    res = 0\n",
    "    return sum((update[(len(update)-1)//2] for update in updates if is_valid(rules_dict, update)))"
   ]
  },
  {
   "cell_type": "code",
   "execution_count": 2,
   "id": "b1d5e1dc-daa9-4a87-990b-29466215f990",
   "metadata": {},
   "outputs": [
    {
     "data": {
      "text/plain": [
       "143"
      ]
     },
     "execution_count": 2,
     "metadata": {},
     "output_type": "execute_result"
    }
   ],
   "source": [
    "compute(s_example)"
   ]
  },
  {
   "cell_type": "code",
   "execution_count": 3,
   "id": "31dd7c07-cc8c-40d6-b6d7-1539e4510055",
   "metadata": {},
   "outputs": [
    {
     "data": {
      "text/plain": [
       "5391"
      ]
     },
     "execution_count": 3,
     "metadata": {},
     "output_type": "execute_result"
    }
   ],
   "source": [
    "compute(s_input)"
   ]
  },
  {
   "cell_type": "markdown",
   "id": "fe216f85-4391-46f4-bab9-890f93108ec6",
   "metadata": {},
   "source": [
    "# Part 2"
   ]
  },
  {
   "cell_type": "code",
   "execution_count": 4,
   "id": "48abc6d3-e493-44c4-ac96-0cd020e3d001",
   "metadata": {},
   "outputs": [],
   "source": [
    "def sort(rules_dict, update):\n",
    "    res = [update[-1]]\n",
    "    empty = set()\n",
    "    for el in update[-2::-1]:\n",
    "        if el in rules_dict.get(res[-1], empty):\n",
    "            L = len(res)\n",
    "            i = L-2\n",
    "            while i >= 0 and el in rules_dict[res[i]]:\n",
    "                i -= 1\n",
    "            res.insert(i+1, el)\n",
    "        else:\n",
    "            res.append(el)\n",
    "    return res\n",
    "\n",
    "def compute_incorrect(s):\n",
    "    rules, updates = process_string(s)\n",
    "    rules_dict = make_rules_dict(rules)\n",
    "    res = 0\n",
    "    for update in updates:\n",
    "        if not is_valid(rules_dict, update):\n",
    "            update_sorted = sort(rules_dict, update)\n",
    "            res += update_sorted[(len(update_sorted)-1)//2]\n",
    "    return res"
   ]
  },
  {
   "cell_type": "code",
   "execution_count": 5,
   "id": "714c1582-8430-4967-b002-5729705df81f",
   "metadata": {},
   "outputs": [
    {
     "data": {
      "text/plain": [
       "123"
      ]
     },
     "execution_count": 5,
     "metadata": {},
     "output_type": "execute_result"
    }
   ],
   "source": [
    "compute_incorrect(s_example)"
   ]
  },
  {
   "cell_type": "code",
   "execution_count": 6,
   "id": "27716bc4-b9a5-40e7-9262-87fa989d72c8",
   "metadata": {},
   "outputs": [
    {
     "data": {
      "text/plain": [
       "6142"
      ]
     },
     "execution_count": 6,
     "metadata": {},
     "output_type": "execute_result"
    }
   ],
   "source": [
    "compute_incorrect(s_input)"
   ]
  },
  {
   "cell_type": "code",
   "execution_count": null,
   "id": "5b92bcd4-c16f-410b-b578-d8420eee9c07",
   "metadata": {},
   "outputs": [],
   "source": []
  }
 ],
 "metadata": {
  "kernelspec": {
   "display_name": "Python 3 (ipykernel)",
   "language": "python",
   "name": "python3"
  },
  "language_info": {
   "codemirror_mode": {
    "name": "ipython",
    "version": 3
   },
   "file_extension": ".py",
   "mimetype": "text/x-python",
   "name": "python",
   "nbconvert_exporter": "python",
   "pygments_lexer": "ipython3",
   "version": "3.12.2"
  }
 },
 "nbformat": 4,
 "nbformat_minor": 5
}
