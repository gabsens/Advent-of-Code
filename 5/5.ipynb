{
 "cells": [
  {
   "cell_type": "code",
   "execution_count": 11,
   "id": "e022a2dd-5ac9-431a-b7d3-2a793d2429be",
   "metadata": {},
   "outputs": [],
   "source": [
    "from typing import Dict, List, Set, Tuple"
   ]
  },
  {
   "cell_type": "code",
   "execution_count": 12,
   "id": "7eceab92-1382-45af-8c7f-13ff91eff6fc",
   "metadata": {},
   "outputs": [],
   "source": [
    "s_example = \"\"\"47|53\n",
    "97|13\n",
    "97|61\n",
    "97|47\n",
    "75|29\n",
    "61|13\n",
    "75|53\n",
    "29|13\n",
    "97|29\n",
    "53|29\n",
    "61|53\n",
    "97|53\n",
    "61|29\n",
    "47|13\n",
    "75|47\n",
    "97|75\n",
    "47|61\n",
    "75|61\n",
    "47|29\n",
    "75|13\n",
    "53|13\n",
    "\n",
    "75,47,61,53,29\n",
    "97,61,53,29,13\n",
    "75,29,13\n",
    "75,97,47,61,53\n",
    "61,13,29\n",
    "97,13,75,29,47\"\"\"\n",
    "\n",
    "with open('input.txt', 'r') as f:\n",
    "    s_input = f.read()[:-1]\n",
    "\n",
    "def process_string(s: str) -> Tuple[List[Tuple[int, int]], List[List[int]]]:\n",
    "    rules = [line for line in s.split('\\n') if '|' in line]\n",
    "    rules = [[int(num_string) for num_string in rule.split('|')] for rule in rules]\n",
    "    updates = [line for line in s.split('\\n') if ',' in line]\n",
    "    updates = [[int(num_string) for num_string in update.split(',')] for update in updates]\n",
    "    return rules, updates"
   ]
  },
  {
   "cell_type": "markdown",
   "id": "35946233-801b-4e52-8226-0184d8fd8d5a",
   "metadata": {},
   "source": [
    "# Part 1"
   ]
  },
  {
   "cell_type": "code",
   "execution_count": 17,
   "id": "24317c25-12d9-4750-8acf-9c90d32273b1",
   "metadata": {},
   "outputs": [],
   "source": [
    "def make_rules_dict(rules: List[Tuple[int, int]]) -> Dict[int, Set[int]]:\n",
    "    rules_dict = {}\n",
    "    for a,b in rules:\n",
    "        rules_dict.setdefault(a, set()).add(b)\n",
    "    return rules_dict\n",
    "\n",
    "def is_valid(rules_dict: Dict[int, Set[int]], update: List[int]) -> bool:\n",
    "    return not any((a in rules_dict.get(b, set()) for a, b in zip(update, update[1:])))\n",
    "    #return True when there is no violation of any rule\n",
    "\n",
    "def compute(s: str) -> int:\n",
    "    rules, updates = process_string(s)\n",
    "    rules_dict = make_rules_dict(rules)\n",
    "    res = 0\n",
    "    return sum((update[(len(update)-1)//2] for update in updates if is_valid(rules_dict, update)))"
   ]
  },
  {
   "cell_type": "code",
   "execution_count": 18,
   "id": "b1d5e1dc-daa9-4a87-990b-29466215f990",
   "metadata": {},
   "outputs": [
    {
     "data": {
      "text/plain": [
       "143"
      ]
     },
     "execution_count": 18,
     "metadata": {},
     "output_type": "execute_result"
    }
   ],
   "source": [
    "compute(s_example)"
   ]
  },
  {
   "cell_type": "code",
   "execution_count": 19,
   "id": "31dd7c07-cc8c-40d6-b6d7-1539e4510055",
   "metadata": {},
   "outputs": [
    {
     "data": {
      "text/plain": [
       "5391"
      ]
     },
     "execution_count": 19,
     "metadata": {},
     "output_type": "execute_result"
    }
   ],
   "source": [
    "compute(s_input)"
   ]
  },
  {
   "cell_type": "markdown",
   "id": "b9f8bb2d-8fe2-458c-a1ca-28d693947494",
   "metadata": {},
   "source": [
    "Time complexity: O(n * L) where n is the number of updates and L is the maximum length of an update"
   ]
  },
  {
   "cell_type": "markdown",
   "id": "fe216f85-4391-46f4-bab9-890f93108ec6",
   "metadata": {},
   "source": [
    "# Part 2"
   ]
  },
  {
   "cell_type": "code",
   "execution_count": 20,
   "id": "48abc6d3-e493-44c4-ac96-0cd020e3d001",
   "metadata": {},
   "outputs": [],
   "source": [
    "def sort(rules_dict: Dict[int, Set[int]], update: List[int]) -> List[int]:\n",
    "    res = [update[-1]] #res is already sorted\n",
    "    for el in update[-2::-1]: #new element to insert into the sorted array\n",
    "        if el in rules_dict.get(res[-1], set()): #if el violates order rule for its right-neighbor\n",
    "            L = len(res)\n",
    "            i = L-2\n",
    "            while i >= 0 and el in rules_dict[res[i]]: #if violation, explore further\n",
    "                i -= 1\n",
    "            res.insert(i+1, el) #if reach beginning of res, or no violation, insert at correct spot\n",
    "        else: #no violation initially\n",
    "            res.append(el) #insert\n",
    "        #invariant: at the end of the iteration, res is sorted\n",
    "    return res\n",
    "\n",
    "def compute_incorrect(s: str) -> int:\n",
    "    rules, updates = process_string(s)\n",
    "    rules_dict = make_rules_dict(rules)\n",
    "    res = 0\n",
    "    for update in updates:\n",
    "        if not is_valid(rules_dict, update):\n",
    "            update_sorted = sort(rules_dict, update)\n",
    "            res += update_sorted[(len(update_sorted)-1)//2]\n",
    "    return res"
   ]
  },
  {
   "cell_type": "code",
   "execution_count": 21,
   "id": "714c1582-8430-4967-b002-5729705df81f",
   "metadata": {},
   "outputs": [
    {
     "data": {
      "text/plain": [
       "123"
      ]
     },
     "execution_count": 21,
     "metadata": {},
     "output_type": "execute_result"
    }
   ],
   "source": [
    "compute_incorrect(s_example)"
   ]
  },
  {
   "cell_type": "code",
   "execution_count": 22,
   "id": "27716bc4-b9a5-40e7-9262-87fa989d72c8",
   "metadata": {},
   "outputs": [
    {
     "data": {
      "text/plain": [
       "6142"
      ]
     },
     "execution_count": 22,
     "metadata": {},
     "output_type": "execute_result"
    }
   ],
   "source": [
    "compute_incorrect(s_input)"
   ]
  },
  {
   "cell_type": "markdown",
   "id": "5e2e49fa-439f-48b0-bd1c-617ccd0bb74b",
   "metadata": {},
   "source": [
    "Time complexity: O(n * L^2) where n is the number of updates and L is the maximum length of an update"
   ]
  },
  {
   "cell_type": "code",
   "execution_count": null,
   "id": "727c69c1-a12a-4e1c-90d9-9ccd1a6ba9e7",
   "metadata": {},
   "outputs": [],
   "source": []
  }
 ],
 "metadata": {
  "kernelspec": {
   "display_name": "Python 3 (ipykernel)",
   "language": "python",
   "name": "python3"
  },
  "language_info": {
   "codemirror_mode": {
    "name": "ipython",
    "version": 3
   },
   "file_extension": ".py",
   "mimetype": "text/x-python",
   "name": "python",
   "nbconvert_exporter": "python",
   "pygments_lexer": "ipython3",
   "version": "3.12.2"
  }
 },
 "nbformat": 4,
 "nbformat_minor": 5
}
